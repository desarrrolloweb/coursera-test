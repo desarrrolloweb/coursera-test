{
  "nbformat": 4,
  "nbformat_minor": 0,
  "metadata": {
    "colab": {
      "name": "Copia de Untitled1.ipynb",
      "provenance": [],
      "collapsed_sections": [],
      "include_colab_link": true
    },
    "kernelspec": {
      "name": "python3",
      "display_name": "Python 3"
    }
  },
  "cells": [
    {
      "cell_type": "markdown",
      "metadata": {
        "id": "view-in-github",
        "colab_type": "text"
      },
      "source": [
        "<a href=\"https://colab.research.google.com/github/desarrrolloweb/coursera-test/blob/master/Copia_de_Untitled1.ipynb\" target=\"_parent\"><img src=\"https://colab.research.google.com/assets/colab-badge.svg\" alt=\"Open In Colab\"/></a>"
      ]
    },
    {
      "cell_type": "markdown",
      "metadata": {
        "id": "zZB8vpw6RAOy",
        "colab_type": "text"
      },
      "source": [
        "# Establezca una dirección IP y configure DHCP"
      ]
    },
    {
      "cell_type": "markdown",
      "metadata": {
        "id": "TWh7-G3JQeNv",
        "colab_type": "text"
      },
      "source": [
        "Establecer una dirección IP en una computadora con Windows es una tarea que la mayoría de los profesionales de TI ya se han comprometido con la memoria muscular. Haga clic en esto, haga clic con el botón derecho en eso, haga clic en esto, escriba la dirección IP, la máscara de subred, la puerta de enlace predeterminada y los servidores DNS ... ¡listo! Es fácil de hacer, pero es una molestia cuando es parte de un flujo de trabajo que debe automatizar de alguna manera. Para automatizar la configuración de una dirección IP, podemos usar PowerShell para que sea rápido y fácil"
      ]
    },
    {
      "cell_type": "markdown",
      "metadata": {
        "id": "kYX8V6KpQaEI",
        "colab_type": "text"
      },
      "source": [
        "PowerShell incluye algunos cmdlets que nos permiten encontrar la dirección IP de una máquina y cambiarla a cualquier configuración que deseemos. Veamos algunos escenarios."
      ]
    },
    {
      "cell_type": "markdown",
      "metadata": {
        "id": "WgDiqm-WZ4nw",
        "colab_type": "text"
      },
      "source": [
        ""
      ]
    },
    {
      "cell_type": "markdown",
      "metadata": {
        "id": "xwLocwxARSz6",
        "colab_type": "text"
      },
      "source": [
        "## Establecer una dirección IP estática para DHCP"
      ]
    },
    {
      "cell_type": "markdown",
      "metadata": {
        "id": "_nRDHd-aRar5",
        "colab_type": "text"
      },
      "source": [
        "Una de las tareas más fáciles de realizar es establecer una NIC en DHCP. Con los cmdlets Set-NetIPInterface y Remove-NetRoute , podemos hacer que suceda. Comenzamos con una configuración de IP similar a la siguiente."
      ]
    },
    {
      "cell_type": "markdown",
      "metadata": {
        "id": "99MrIbRDSFSC",
        "colab_type": "text"
      },
      "source": [
        "![texto alternativo](https://4sysops.com/wp-content/uploads/2018/05/Setting-the-current-IP-address-in-the-GUI.png)"
      ]
    },
    {
      "cell_type": "markdown",
      "metadata": {
        "id": "8F8f9TAZSSzp",
        "colab_type": "text"
      },
      "source": [
        "Para configurar esta NIC en DHCP, podemos usar el comando Set-NetIpInterface . Esto eliminará la dirección IP y la máscara de subred."
      ]
    },
    {
      "cell_type": "code",
      "metadata": {
        "id": "SpWvcJyUSYuI",
        "colab_type": "code",
        "colab": {}
      },
      "source": [
        " Set-NetIPInterface   -InterfaceAlias   'Ethernet 2'   -Dhcp   Enabled"
      ],
      "execution_count": 0,
      "outputs": []
    },
    {
      "cell_type": "markdown",
      "metadata": {
        "id": "f7G9OCAdSbrt",
        "colab_type": "text"
      },
      "source": [
        "Sin embargo, tras una inspección adicional, la puerta de enlace predeterminada aparece atenuada en las propiedades de TCP / IP pero aún permanece. Tenemos que usar un comando diferente para eliminar esto, llamado Remove-NetRoute ."
      ]
    },
    {
      "cell_type": "code",
      "metadata": {
        "id": "Ifdk6rt3Sfbh",
        "colab_type": "code",
        "colab": {}
      },
      "source": [
        " PS >   Get - NetIPAddress   - InterfaceAlias   'Ethernet 2'   |   Remove - NetRoute \n",
        " \n",
        " "
      ],
      "execution_count": 0,
      "outputs": []
    },
    {
      "cell_type": "code",
      "metadata": {
        "id": "0_bW5x7lTKQN",
        "colab_type": "code",
        "colab": {}
      },
      "source": [
        "Confirm \n",
        " Are  you  sure  you  want  to   perform  this   action ? \n",
        " Performing  operation   \"Remove\"   on  Target   \"NetRoute -DestinationPrefix 169.254.114.202/32 -InterfaceIndex 8 -NextHop 0.0.0.0 -Store Active\" \n",
        " [ Y ]   Yes    [ A ]   Yes  to   All    [ N ]   No    [ L ]   No  to   All    [ S ]   Suspend    [ ? ]   Help   ( default   is   \"Y\" ) :   a "
      ],
      "execution_count": 0,
      "outputs": []
    },
    {
      "cell_type": "markdown",
      "metadata": {
        "id": "Ic37Ha4JSo4h",
        "colab_type": "text"
      },
      "source": [
        "Esto establece la NIC en DHCP sin restos de la puerta de enlace predeterminada anterior."
      ]
    },
    {
      "cell_type": "markdown",
      "metadata": {
        "id": "fawYUjXESsmf",
        "colab_type": "text"
      },
      "source": [
        "## Establecer una dirección IP estática desde DHCP"
      ]
    },
    {
      "cell_type": "markdown",
      "metadata": {
        "id": "QytAsDW4Swcp",
        "colab_type": "text"
      },
      "source": [
        "Al pasar de DHCP a estático, los cmdlets de PowerShell tratan esto como una \"nueva\" dirección IP, por lo tanto, el uso del cmdlet New-NetIpAddress . Para usar esto, deberá hacer referencia a la dirección IP actual y canalizarla a New-NetIpAddress utilizando la dirección IP esperada, la longitud del prefijo de la máscara de subred y la puerta de enlace predeterminada."
      ]
    },
    {
      "cell_type": "code",
      "metadata": {
        "id": "4FIaHEUpSzMx",
        "colab_type": "code",
        "colab": {}
      },
      "source": [
        " PS   C : >   Get - NetIpAddress   - InterfaceAlias   'Ethernet 2'   |   New - NetIpAddress   IpAddress   192.168.1.10   - PrefixLength   24   - DefaultGateway   192.168.1.1 \n",
        " \n",
        " "
      ],
      "execution_count": 0,
      "outputs": []
    },
    {
      "cell_type": "code",
      "metadata": {
        "id": "7my9NkEZTTR6",
        "colab_type": "code",
        "colab": {}
      },
      "source": [
        "IPAddress   :   192.168.1.10   InterfaceIndex   :   8   InterfaceAlias   :   Ethernet   2   AddressFamily   :   IPv4  Type   :   Unicast  PrefixLength   :   24   PrefixOrigin   :   Manual  SuffixOrigin   :   Manual  AddressState   :   Tentative  ValidLifetime   :   Infinite   ( [ TimeSpan ] :: MaxValue )   PreferredLifetime   :   Infinite   ( [ TimeSpan ] :: MaxValue )   SkipAsSource   :   False   PolicyStore   :   ActiveStore \n",
        " \n",
        " IPAddress   :   192.168.1.10   InterfaceIndex   :   8   InterfaceAlias   :   Ethernet   2   AddressFamily   :   IPv4  Type   :   Unicast  PrefixLength   :   24   PrefixOrigin   :   Manual  SuffixOrigin   :   Manual  AddressState   :   Invalid  ValidLifetime   :   Infinite   ( [ TimeSpan ] :: MaxValue )   PreferredLifetime   :   Infinite   ( [ TimeSpan ] :: MaxValue )   SkipAsSource   :   False   PolicyStore   :   PersistentStore "
      ],
      "execution_count": 0,
      "outputs": []
    },
    {
      "cell_type": "markdown",
      "metadata": {
        "id": "jlk9xU8oTcsu",
        "colab_type": "text"
      },
      "source": [
        "## Cambiar una dirección IP estática"
      ]
    },
    {
      "cell_type": "markdown",
      "metadata": {
        "id": "kEkQLrjcTnHK",
        "colab_type": "text"
      },
      "source": [
        "Para cambiar una dirección IP estática existente, tenemos que usar el cmdlet Set-NetIpAddress , pero no es tan fácil. Para cambiar una dirección IP estática existente, primero debe eliminar la existente y crear una nueva. Eliminaré la dirección IP actual y eliminaré la puerta de enlace predeterminada."
      ]
    },
    {
      "cell_type": "code",
      "metadata": {
        "id": "mIlBwvPWTplA",
        "colab_type": "code",
        "colab": {}
      },
      "source": [
        " Get-NetIPAddress   -InterfaceAlias   'Ethernet 2'   |   Remove-NetRoute \n",
        " Get-NetIPAddress   -InterfaceAlias   'Ethernet 2'   |   Remove-NetIpAddress "
      ],
      "execution_count": 0,
      "outputs": []
    },
    {
      "cell_type": "markdown",
      "metadata": {
        "id": "fYK8qvapTtNj",
        "colab_type": "text"
      },
      "source": [
        "Una vez que haga esto, usaré la misma técnica que usé anteriormente para agregar una nueva dirección IP."
      ]
    },
    {
      "cell_type": "code",
      "metadata": {
        "id": "0QPat6THTxoU",
        "colab_type": "code",
        "colab": {}
      },
      "source": [
        "Get-NetIpAddress   -InterfaceAlias   'Ethernet 2'   |   New-NetIpAddress  ‑ IpAddress  192 . 168 . 1 . 11  -PrefixLength  24  -DefaultGateway  192 . 168 . 1 . 1"
      ],
      "execution_count": 0,
      "outputs": []
    },
    {
      "cell_type": "markdown",
      "metadata": {
        "id": "dqMejENDT6nR",
        "colab_type": "text"
      },
      "source": [
        "Ahora debería ver que la dirección IP ha cambiado"
      ]
    },
    {
      "cell_type": "code",
      "metadata": {
        "id": "lBN2VHV1T_1w",
        "colab_type": "code",
        "colab": {}
      },
      "source": [
        "PS   C : \\ >   Get - NetIpAddress   - InterfaceAlias   'Ethernet 2' "
      ],
      "execution_count": 0,
      "outputs": []
    },
    {
      "cell_type": "code",
      "metadata": {
        "id": "PqMFxG6sUBO1",
        "colab_type": "code",
        "colab": {}
      },
      "source": [
        " IPAddress           :   192.168.1.11 \n",
        " InterfaceIndex      :   8 \n",
        " InterfaceAlias      :   Ethernet   2 \n",
        " < SNIP > "
      ],
      "execution_count": 0,
      "outputs": []
    },
    {
      "cell_type": "markdown",
      "metadata": {
        "id": "TLhz_hhUUGrI",
        "colab_type": "text"
      },
      "source": [
        "# Resumen"
      ]
    },
    {
      "cell_type": "markdown",
      "metadata": {
        "id": "TZqQ2F5rUKUS",
        "colab_type": "text"
      },
      "source": [
        "Cambiar una dirección IP de NIC y una puerta de enlace predeterminada no es tan sencillo como cabría esperar. Debido a la forma en que Windows almacena la información de IP, descubrirá que eliminar completamente la antigua IP y la puerta de enlace predeterminada y simplemente asignar nuevas a través de los cmdlets es la forma más fácil de realizar esta tarea."
      ]
    }
  ]
}